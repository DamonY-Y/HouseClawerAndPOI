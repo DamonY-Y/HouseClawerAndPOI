{
 "cells": [
  {
   "cell_type": "code",
   "execution_count": 1,
   "metadata": {},
   "outputs": [],
   "source": [
    "import pandas as pd #导入数据分析模块\n",
    "import requests #导入网页请求模块"
   ]
  },
  {
   "cell_type": "code",
   "execution_count": 2,
   "metadata": {},
   "outputs": [
    {
     "name": "stdout",
     "output_type": "stream",
     "text": [
      "0    30.689071\n",
      "Name: 百度纬度, dtype: float64\n"
     ]
    }
   ],
   "source": [
    "data=pd.read_excel(\"test.xlsx\") #读取数据\n",
    "lat_partion=data[\"百度纬度\"] #纬度\n",
    "lng_partion=data[\"百度经度\"] #经度\n",
    "store=data[\"项目名称\"] #门店\n",
    "targets=[]  #用来存要查找的名称\n",
    "addresss=[]  #用来存放地址\n",
    "stores=[]     #用来存放项目名称\n",
    "distances=[]  #用来存放距离"
   ]
  },
  {
   "cell_type": "code",
   "execution_count": 8,
   "metadata": {},
   "outputs": [
    {
     "name": "stdout",
     "output_type": "stream",
     "text": [
      "30.689071,104.149281\n",
      "http://api.map.baidu.com/place/v2/search?query=公园&page_size=10&page_num=0&location=30.689071,104.149281&radius=5000&output=json&ak=CCveNaEXtUnRMuipcNXb6muXase7rYzz&scope=2\n"
     ]
    }
   ],
   "source": [
    "keyword = '公园'\n",
    "radius = '5000'\n",
    "\n",
    "for i in range(len(lat_partion)):\n",
    "        location=str(lat_partion[i])+\",\"+ str(lng_partion[i]) #构造圆中心点的经纬度\n",
    "        print(location) #测试            \n",
    "        url=\"http://api.map.baidu.com/place/v2/search?query=\"+keyword+\"&page_size=10&page_num=0&location=\"+location+\"&radius=\"+str(radius)+\"&output=json&ak=CCveNaEXtUnRMuipcNXb6muXase7rYzz&scope=2\"#构造请求网址\n",
    "        print(url) #测试请求接口拼接是否正确，此url可以直接复制到浏览器查看返回结果       "
   ]
  },
  {
   "cell_type": "code",
   "execution_count": 9,
   "metadata": {},
   "outputs": [
    {
     "name": "stdout",
     "output_type": "stream",
     "text": [
      "一共10条数据\n",
      "圣灯公园 685 四川省成都市成华区成华大道和物流大道交汇处\n",
      "北湖生态公园 4166 成都市成华区龙青路\n",
      "海滨公园 3776 荆竹东路264号\n",
      "香山长岛爱琴海公园 3072 成都市成华区长融东三路155号附近\n",
      "成华二仙桥公园 2172 四川省成都市成华区二仙桥北一路4号\n",
      "新华公园 4651 四川省成都市成华区双林路87号\n",
      "三洞古桥公园 4567 成都市成华区三友路217号附1号\n",
      "香木园 3057 香木林路100号\n",
      "沙河城市公园 2849 四川省成都市成华区杉板桥路建设南路交叉路口\n",
      "成华公园 4876 猛追湾街22号\n"
     ]
    }
   ],
   "source": [
    "response=requests.get(url) #发出请求\n",
    "answer=response.json() #返回结果json化\n",
    "# print(answer) #测试\n",
    "print(\"一共%s条数据\"%len(answer['results']))\n",
    "for k in range(len(answer['results'])):  \n",
    "    target=answer['results'][k]['name'] #标的物名称\n",
    "    address=answer['results'][k]['address'] #地址\n",
    "    distance=answer['results'][k]['detail_info']['distance'] #距离\n",
    "    targets.append(target)\n",
    "    addresss.append(address)\n",
    "    stores.append(store[i])\n",
    "    distances.append(distance)\n",
    "    print(target,distance,address)"
   ]
  },
  {
   "cell_type": "code",
   "execution_count": 10,
   "metadata": {},
   "outputs": [],
   "source": [
    "def get_directory(keyword,radius): #定义圆形区域检索函数\n",
    "    for i in range(len(lat_partion)):\n",
    "        location=str(lat_partion[i])+\",\"+ str(lng_partion[i]) #构造圆中心点的经纬度\n",
    "        #print(location) #测试\n",
    "        try:                \n",
    "            url=\"http://api.map.baidu.com/place/v2/search?query=\"+keyword+\"&page_size=10&page_num=0&location=\"+location+\"&radius=\"+str(radius)+\"&output=json&ak=CCveNaEXtUnRMuipcNXb6muXase7rYzz&scope=2\"#构造请求网址\n",
    "            #print(url) #测试请求接口拼接是否正确，此url可以直接复制到浏览器查看返回结果\n",
    "            response=requests.get(url) #发出请求\n",
    "            answer=response.json() #返回结果json化\n",
    "            \n",
    "            print(\"一共%s条数据\"%len(answer['results']))\n",
    "            \n",
    "            for k in range(len(answer['results'])):  \n",
    "                target=answer['results'][k]['name'] #标的物名称\n",
    "                address=answer['results'][k]['address'] #地址\n",
    "                distance=answer['results'][k]['detail_info']['distance'] #距离\n",
    "                targets.append(target)\n",
    "                addresss.append(address)\n",
    "                stores.append(store[i])\n",
    "                distances.append(distance)\n",
    "                print(target,distance,address)\n",
    "                \n",
    "        except:\n",
    "            print(\"the circle contains no message\")\n",
    "            stores.append(store[i])\n",
    "            targets.append(\"\")\n",
    "            distances.append(\"\")\n",
    "            addresss.append(\"\")\n",
    "           \n"
   ]
  },
  {
   "cell_type": "code",
   "execution_count": 11,
   "metadata": {},
   "outputs": [
    {
     "name": "stdout",
     "output_type": "stream",
     "text": [
      "一共10条数据\n",
      "成都万汇学校 363 成都市成华区华林一路41号\n",
      "成都市二仙桥学校 694 二仙桥北路31号附288号\n",
      "成都嘉祥外国语学校(成华校区) 982 成都市成华区二仙桥北二路3号\n",
      "成都理工大学附属小学 881 四川省成都市成华区民兴东路62号\n",
      "成都理工大学-商学院 752 二仙桥东三路1号\n",
      "成都理工大学法学院 783 二仙桥东三路1成都理工大学\n",
      "成都石室中学(北湖校区) 2360 四川省成都市成华区龙潭寺三环路立交桥内侧\n",
      "西南财经大学天府学院成都校区(西区) 3338 成都市成华区龙潭寺航天路29号\n",
      "成都理工大学-逸夫楼 884 二仙桥东三路1号成都理工大学\n",
      "金箭机动车驾驶培训学校 383 四川省成都市成华区成华大道十里店路\n"
     ]
    }
   ],
   "source": [
    "keyword='学校'  #输入poi的关键词\n",
    "radius = 50000  #输入半径\n",
    "get_directory(keyword,radius)  #调用函数get_directory\n",
    "dict={\"项目名称\":stores,\"标的物\":targets,\"距离\":distances,\"地址\":addresss}  #构造字典\n",
    "df=pd.DataFrame(dict)\n",
    "df.to_excel(\"检索结果.xlsx\") "
   ]
  },
  {
   "cell_type": "code",
   "execution_count": null,
   "metadata": {},
   "outputs": [],
   "source": []
  }
 ],
 "metadata": {
  "kernelspec": {
   "display_name": "Python 3",
   "language": "python",
   "name": "python3"
  },
  "language_info": {
   "codemirror_mode": {
    "name": "ipython",
    "version": 3
   },
   "file_extension": ".py",
   "mimetype": "text/x-python",
   "name": "python",
   "nbconvert_exporter": "python",
   "pygments_lexer": "ipython3",
   "version": "3.7.9"
  }
 },
 "nbformat": 4,
 "nbformat_minor": 4
}
